{
 "cells": [
  {
   "cell_type": "markdown",
   "metadata": {
    "id": "My2t6WkWyWmU"
   },
   "source": [
    "#### Importing python libraries"
   ]
  },
  {
   "cell_type": "code",
   "execution_count": null,
   "metadata": {
    "id": "wdITaNQuwXrf"
   },
   "outputs": [],
   "source": [
    "import numpy as np\n",
    "import pandas as pd\n",
    "import matplotlib.pyplot as plt\n",
    "import seaborn as sns\n",
    "%matplotlib inline"
   ]
  },
  {
   "cell_type": "markdown",
   "metadata": {
    "id": "e53nPnWSyfM8"
   },
   "source": [
    "### Importing the dataset"
   ]
  },
  {
   "cell_type": "code",
   "execution_count": null,
   "metadata": {
    "id": "0BeVXwVIwcjX"
   },
   "outputs": [],
   "source": [
    "df_train = pd.read_csv('df_train_mod.csv')\n",
    "df_test = pd.read_csv('df_test_mod.csv')"
   ]
  },
  {
   "cell_type": "markdown",
   "metadata": {
    "id": "rt7xdht-ylWB"
   },
   "source": [
    "#### Train Test Split"
   ]
  },
  {
   "cell_type": "code",
   "execution_count": null,
   "metadata": {
    "id": "4ILz-lfEwcs7"
   },
   "outputs": [],
   "source": [
    "from sklearn.model_selection import train_test_split"
   ]
  },
  {
   "cell_type": "code",
   "execution_count": null,
   "metadata": {
    "id": "gkMaDGJ9yD1O"
   },
   "outputs": [],
   "source": [
    "X = df_train.drop('is_promoted',axis=1)\n",
    "y = df_train['is_promoted']"
   ]
  },
  {
   "cell_type": "code",
   "execution_count": null,
   "metadata": {
    "id": "rrLBArMGwc2Q"
   },
   "outputs": [],
   "source": [
    "X_train,X_cv,y_train,y_cv = train_test_split(X,y,test_size=0.2,random_state=101)"
   ]
  },
  {
   "cell_type": "code",
   "execution_count": null,
   "metadata": {
    "id": "4ogWoZ85wc9i"
   },
   "outputs": [],
   "source": [
    "X_test = df_test"
   ]
  },
  {
   "cell_type": "code",
   "execution_count": null,
   "metadata": {
    "id": "CfY5TcpCOt8j"
   },
   "outputs": [],
   "source": [
    "X_train = X_train.reset_index()\n",
    "X_train = X_train.drop(['index','Unnamed: 0'],axis=1)"
   ]
  },
  {
   "cell_type": "code",
   "execution_count": null,
   "metadata": {
    "id": "cLyCQZyUQXcg"
   },
   "outputs": [],
   "source": [
    "X_test = X_test.reset_index()\n",
    "X_test = X_test.drop(['index','Unnamed: 0'],axis=1)"
   ]
  },
  {
   "cell_type": "code",
   "execution_count": null,
   "metadata": {
    "id": "26puYHWPRiH1"
   },
   "outputs": [],
   "source": [
    "X_cv = X_cv.reset_index()\n",
    "X_cv = X_cv.drop(['index','Unnamed: 0'],axis=1)"
   ]
  },
  {
   "cell_type": "code",
   "execution_count": null,
   "metadata": {
    "id": "lT7Jwkm_RiSP"
   },
   "outputs": [],
   "source": [
    "X_train = X_train.drop('employee_id',axis=1)\n",
    "X_cv = X_cv.drop('employee_id',axis=1)\n",
    "X_test = X_test.drop('employee_id',axis=1)"
   ]
  },
  {
   "cell_type": "code",
   "execution_count": null,
   "metadata": {
    "colab": {
     "base_uri": "https://localhost:8080/"
    },
    "id": "MAIT7v2oRiWi",
    "outputId": "4d23bbe1-84c3-4372-a7fb-a2166151514c"
   },
   "outputs": [
    {
     "name": "stdout",
     "output_type": "stream",
     "text": [
      "(43841, 145)\n",
      "(10961, 145)\n",
      "(43841,)\n",
      "(10961,)\n",
      "(23490, 145)\n"
     ]
    }
   ],
   "source": [
    "print(X_train.shape)\n",
    "print(X_cv.shape)\n",
    "print(y_train.shape)\n",
    "print(y_cv.shape)\n",
    "print(X_test.shape)"
   ]
  },
  {
   "cell_type": "markdown",
   "metadata": {
    "id": "3DU61oEdzOv0"
   },
   "source": [
    "#### Training the model"
   ]
  },
  {
   "cell_type": "markdown",
   "metadata": {
    "id": "ssZeQxGlzSao"
   },
   "source": [
    "##### Logistic Regression"
   ]
  },
  {
   "cell_type": "code",
   "execution_count": null,
   "metadata": {
    "id": "j_Y1mksJwdDK"
   },
   "outputs": [],
   "source": [
    "from sklearn.linear_model import LogisticRegression"
   ]
  },
  {
   "cell_type": "code",
   "execution_count": null,
   "metadata": {
    "id": "hvNl4P4QsifP"
   },
   "outputs": [],
   "source": [
    "X = X.drop(['Unnamed: 0','employee_id'],axis=1)"
   ]
  },
  {
   "cell_type": "code",
   "execution_count": null,
   "metadata": {
    "colab": {
     "base_uri": "https://localhost:8080/"
    },
    "id": "_vW2cnQ7sRJP",
    "outputId": "38ff1811-e6ac-4b4a-86b0-2fe11c8d07e9"
   },
   "outputs": [
    {
     "name": "stdout",
     "output_type": "stream",
     "text": [
      "(54802, 145)\n",
      "(54802,)\n",
      "(23490, 145)\n"
     ]
    }
   ],
   "source": [
    "print(X.shape)\n",
    "print(y.shape)\n",
    "print(X_test.shape)"
   ]
  },
  {
   "cell_type": "code",
   "execution_count": null,
   "metadata": {
    "id": "ooL0cqhcwdIP"
   },
   "outputs": [],
   "source": [
    "model = LogisticRegression(max_iter=10000000000000000)\n",
    "model.fit(X,y)\n",
    "pred = model.predict(X_cv)"
   ]
  },
  {
   "cell_type": "code",
   "execution_count": null,
   "metadata": {
    "id": "uHTiguFSwdM2"
   },
   "outputs": [],
   "source": [
    "from sklearn.metrics import f1_score, accuracy_score, classification_report, confusion_matrix"
   ]
  },
  {
   "cell_type": "code",
   "execution_count": null,
   "metadata": {
    "colab": {
     "base_uri": "https://localhost:8080/"
    },
    "id": "GuCRVmGJwdRY",
    "outputId": "a8f2aa54-ca48-48a9-dd90-9ac70f1b97dd"
   },
   "outputs": [
    {
     "name": "stdout",
     "output_type": "stream",
     "text": [
      "0.4066115702479339\n",
      "\n",
      "0.9344950278259283\n",
      "\n",
      "[[9997  647]\n",
      " [  71  246]]\n",
      "\n",
      "              precision    recall  f1-score   support\n",
      "\n",
      "           0       0.99      0.94      0.97     10644\n",
      "           1       0.28      0.78      0.41       317\n",
      "\n",
      "    accuracy                           0.93     10961\n",
      "   macro avg       0.63      0.86      0.69     10961\n",
      "weighted avg       0.97      0.93      0.95     10961\n",
      "\n"
     ]
    }
   ],
   "source": [
    "print(f1_score(pred,y_cv))\n",
    "print()\n",
    "print(accuracy_score(pred,y_cv))\n",
    "print()\n",
    "print(confusion_matrix(pred,y_cv))\n",
    "print()\n",
    "print(classification_report(pred,y_cv))"
   ]
  },
  {
   "cell_type": "code",
   "execution_count": null,
   "metadata": {
    "id": "kuHUC-Q3wdVX"
   },
   "outputs": [],
   "source": [
    "pred = pd.DataFrame(model.predict(X_test))\n",
    "pred = pd.concat([df_test['employee_id'],pred],axis=1)\n",
    "pred.columns = ['employee_id','is_promoted']\n",
    "pred.to_csv('pred_logistic_regression.csv',index=False)"
   ]
  },
  {
   "cell_type": "markdown",
   "metadata": {
    "id": "FKabWKzh0C9e"
   },
   "source": [
    "#### Naive Bayes"
   ]
  },
  {
   "cell_type": "code",
   "execution_count": null,
   "metadata": {
    "id": "Hm0TVsfswdh2"
   },
   "outputs": [],
   "source": [
    "from sklearn.naive_bayes import MultinomialNB"
   ]
  },
  {
   "cell_type": "code",
   "execution_count": null,
   "metadata": {
    "id": "UgNOr8BvwdnB"
   },
   "outputs": [],
   "source": [
    "model = MultinomialNB()\n",
    "model.fit(X,y)\n",
    "pred = model.predict(X_cv)"
   ]
  },
  {
   "cell_type": "code",
   "execution_count": null,
   "metadata": {
    "colab": {
     "base_uri": "https://localhost:8080/"
    },
    "id": "7GSAUPm9wdqi",
    "outputId": "fafbd327-6539-4b52-8878-0bcbfdb04762"
   },
   "outputs": [
    {
     "name": "stdout",
     "output_type": "stream",
     "text": [
      "0.17769718948322755\n",
      "\n",
      "0.9172520755405529\n",
      "\n",
      "[[9956  795]\n",
      " [ 112   98]]\n",
      "\n",
      "              precision    recall  f1-score   support\n",
      "\n",
      "           0       0.99      0.93      0.96     10751\n",
      "           1       0.11      0.47      0.18       210\n",
      "\n",
      "    accuracy                           0.92     10961\n",
      "   macro avg       0.55      0.70      0.57     10961\n",
      "weighted avg       0.97      0.92      0.94     10961\n",
      "\n"
     ]
    }
   ],
   "source": [
    "print(f1_score(pred,y_cv))\n",
    "print()\n",
    "print(accuracy_score(pred,y_cv))\n",
    "print()\n",
    "print(confusion_matrix(pred,y_cv))\n",
    "print()\n",
    "print(classification_report(pred,y_cv))"
   ]
  },
  {
   "cell_type": "code",
   "execution_count": null,
   "metadata": {
    "id": "hJb_xI24wdt4"
   },
   "outputs": [],
   "source": [
    "pred = pd.DataFrame(model.predict(X_test))\n",
    "pred = pd.concat([df_test['employee_id'],pred],axis=1)\n",
    "pred.columns = ['employee_id','is_promoted']\n",
    "pred.to_csv('pred_naive_bayes.csv',index=False)"
   ]
  },
  {
   "cell_type": "markdown",
   "metadata": {
    "id": "D3OCuvMD2yXP"
   },
   "source": [
    "#### KNN"
   ]
  },
  {
   "cell_type": "code",
   "execution_count": null,
   "metadata": {
    "id": "0wf2C8nbwdwf"
   },
   "outputs": [],
   "source": [
    "from sklearn.neighbors import KNeighborsClassifier"
   ]
  },
  {
   "cell_type": "code",
   "execution_count": null,
   "metadata": {
    "id": "rSMp5A_twdzq"
   },
   "outputs": [],
   "source": [
    "model = KNeighborsClassifier()\n",
    "model.fit(X,y)\n",
    "pred = model.predict(X_cv)"
   ]
  },
  {
   "cell_type": "code",
   "execution_count": null,
   "metadata": {
    "colab": {
     "base_uri": "https://localhost:8080/"
    },
    "id": "iJY9NaSGwd2i",
    "outputId": "66db6ede-03e6-422e-efc8-b032209b6fc9"
   },
   "outputs": [
    {
     "name": "stdout",
     "output_type": "stream",
     "text": [
      "0.45614035087719296\n",
      "\n",
      "0.940607608794818\n",
      "\n",
      "[[10037   620]\n",
      " [   31   273]]\n",
      "\n",
      "              precision    recall  f1-score   support\n",
      "\n",
      "           0       1.00      0.94      0.97     10657\n",
      "           1       0.31      0.90      0.46       304\n",
      "\n",
      "    accuracy                           0.94     10961\n",
      "   macro avg       0.65      0.92      0.71     10961\n",
      "weighted avg       0.98      0.94      0.95     10961\n",
      "\n"
     ]
    }
   ],
   "source": [
    "print(f1_score(pred,y_cv))\n",
    "print()\n",
    "print(accuracy_score(pred,y_cv))\n",
    "print()\n",
    "print(confusion_matrix(pred,y_cv))\n",
    "print()\n",
    "print(classification_report(pred,y_cv))"
   ]
  },
  {
   "cell_type": "code",
   "execution_count": null,
   "metadata": {
    "id": "a_wiT9ndwd5O"
   },
   "outputs": [],
   "source": [
    "pred = pd.DataFrame(model.predict(X_test))\n",
    "pred = pd.concat([df_test['employee_id'],pred],axis=1)\n",
    "pred.columns = ['employee_id','is_promoted']\n",
    "pred.to_csv('pred_knn.csv',index=False)"
   ]
  },
  {
   "cell_type": "markdown",
   "metadata": {
    "id": "jWKoL9gBalQe"
   },
   "source": [
    "#### SVM"
   ]
  },
  {
   "cell_type": "code",
   "execution_count": null,
   "metadata": {
    "id": "GxPgcWptwd75"
   },
   "outputs": [],
   "source": [
    "from sklearn.svm import SVC"
   ]
  },
  {
   "cell_type": "code",
   "execution_count": null,
   "metadata": {
    "id": "VwecEL1Mwd-u"
   },
   "outputs": [],
   "source": [
    "model = SVC()\n",
    "model.fit(X,y)\n",
    "pred = model.predict(X_cv)"
   ]
  },
  {
   "cell_type": "code",
   "execution_count": null,
   "metadata": {
    "colab": {
     "base_uri": "https://localhost:8080/"
    },
    "id": "HmCuOxmGweB_",
    "outputId": "2a23ef93-ec44-4cf0-9233-6ea280074427"
   },
   "outputs": [
    {
     "name": "stdout",
     "output_type": "stream",
     "text": [
      "0.008918617614269788\n",
      "\n",
      "0.9188942614724934\n",
      "\n",
      "[[10068   889]\n",
      " [    0     4]]\n",
      "\n",
      "              precision    recall  f1-score   support\n",
      "\n",
      "           0       1.00      0.92      0.96     10957\n",
      "           1       0.00      1.00      0.01         4\n",
      "\n",
      "    accuracy                           0.92     10961\n",
      "   macro avg       0.50      0.96      0.48     10961\n",
      "weighted avg       1.00      0.92      0.96     10961\n",
      "\n"
     ]
    }
   ],
   "source": [
    "print(f1_score(pred,y_cv))\n",
    "print()\n",
    "print(accuracy_score(pred,y_cv))\n",
    "print()\n",
    "print(confusion_matrix(pred,y_cv))\n",
    "print()\n",
    "print(classification_report(pred,y_cv))"
   ]
  },
  {
   "cell_type": "code",
   "execution_count": null,
   "metadata": {
    "id": "paaa3k5lweE-"
   },
   "outputs": [],
   "source": [
    "pred = pd.DataFrame(model.predict(X_test))\n",
    "pred = pd.concat([df_test['employee_id'],pred],axis=1)\n",
    "pred.columns = ['employee_id','is_promoted']\n",
    "pred.to_csv('pred_svm.csv',index=False)"
   ]
  },
  {
   "cell_type": "markdown",
   "metadata": {
    "id": "vC_mxVbVbera"
   },
   "source": [
    "#### Decision Tree"
   ]
  },
  {
   "cell_type": "code",
   "execution_count": null,
   "metadata": {
    "id": "tHawIpRyweHy"
   },
   "outputs": [],
   "source": [
    "from sklearn.tree import DecisionTreeClassifier"
   ]
  },
  {
   "cell_type": "code",
   "execution_count": null,
   "metadata": {
    "id": "8CTZ8EwoweKQ"
   },
   "outputs": [],
   "source": [
    "model = DecisionTreeClassifier()\n",
    "model.fit(X,y)\n",
    "pred = model.predict(X_cv)"
   ]
  },
  {
   "cell_type": "code",
   "execution_count": null,
   "metadata": {
    "colab": {
     "base_uri": "https://localhost:8080/"
    },
    "id": "1-yRnbVOweMz",
    "outputId": "2a77288f-1d1d-433c-852d-c2b60a8897dd"
   },
   "outputs": [
    {
     "name": "stdout",
     "output_type": "stream",
     "text": [
      "1.0\n",
      "\n",
      "1.0\n",
      "\n",
      "[[10068     0]\n",
      " [    0   893]]\n",
      "\n",
      "              precision    recall  f1-score   support\n",
      "\n",
      "           0       1.00      1.00      1.00     10068\n",
      "           1       1.00      1.00      1.00       893\n",
      "\n",
      "    accuracy                           1.00     10961\n",
      "   macro avg       1.00      1.00      1.00     10961\n",
      "weighted avg       1.00      1.00      1.00     10961\n",
      "\n"
     ]
    }
   ],
   "source": [
    "print(f1_score(pred,y_cv))\n",
    "print()\n",
    "print(accuracy_score(pred,y_cv))\n",
    "print()\n",
    "print(confusion_matrix(pred,y_cv))\n",
    "print()\n",
    "print(classification_report(pred,y_cv))"
   ]
  },
  {
   "cell_type": "code",
   "execution_count": null,
   "metadata": {
    "id": "O3qgDcPcwePc"
   },
   "outputs": [],
   "source": [
    "pred = pd.DataFrame(model.predict(X_test))\n",
    "pred = pd.concat([df_test['employee_id'],pred],axis=1)\n",
    "pred.columns = ['employee_id','is_promoted']\n",
    "pred.to_csv('pred_decisionTree.csv',index=False)"
   ]
  },
  {
   "cell_type": "markdown",
   "metadata": {
    "id": "3nvjAZ1hcYBK"
   },
   "source": [
    "#### Bagging Decision Tree"
   ]
  },
  {
   "cell_type": "code",
   "execution_count": null,
   "metadata": {
    "id": "qJEEtlWMweRz"
   },
   "outputs": [],
   "source": [
    "from sklearn.ensemble import BaggingClassifier\n",
    "from sklearn.tree import DecisionTreeClassifier"
   ]
  },
  {
   "cell_type": "code",
   "execution_count": null,
   "metadata": {
    "id": "fhkadvxEweUH"
   },
   "outputs": [],
   "source": [
    "model = BaggingClassifier(DecisionTreeClassifier(),max_samples=0.5,max_features=1.0,n_estimators=10)\n",
    "model.fit(X, y)\n",
    "pred = model.predict(X_cv)"
   ]
  },
  {
   "cell_type": "code",
   "execution_count": null,
   "metadata": {
    "colab": {
     "base_uri": "https://localhost:8080/"
    },
    "id": "aBfFCbsPweWV",
    "outputId": "7d963a3a-6f95-4354-b6b9-da966dba0481"
   },
   "outputs": [
    {
     "name": "stdout",
     "output_type": "stream",
     "text": [
      "0.7282992237120678\n",
      "\n",
      "0.9648754675668278\n",
      "\n",
      "[[10060   377]\n",
      " [    8   516]]\n",
      "\n",
      "              precision    recall  f1-score   support\n",
      "\n",
      "           0       1.00      0.96      0.98     10437\n",
      "           1       0.58      0.98      0.73       524\n",
      "\n",
      "    accuracy                           0.96     10961\n",
      "   macro avg       0.79      0.97      0.85     10961\n",
      "weighted avg       0.98      0.96      0.97     10961\n",
      "\n"
     ]
    }
   ],
   "source": [
    "print(f1_score(pred,y_cv))\n",
    "print()\n",
    "print(accuracy_score(pred,y_cv))\n",
    "print()\n",
    "print(confusion_matrix(pred,y_cv))\n",
    "print()\n",
    "print(classification_report(pred,y_cv))"
   ]
  },
  {
   "cell_type": "code",
   "execution_count": null,
   "metadata": {
    "id": "SPcuEUpLweZS"
   },
   "outputs": [],
   "source": [
    "pred = pd.DataFrame(model.predict(X_test))\n",
    "pred = pd.concat([df_test['employee_id'],pred],axis=1)\n",
    "pred.columns = ['employee_id','is_promoted']\n",
    "pred.to_csv('pred_bagging.csv',index=False)"
   ]
  },
  {
   "cell_type": "markdown",
   "metadata": {
    "id": "kiGGl-ZYd7Zz"
   },
   "source": [
    "#### Boosting Decision Tree"
   ]
  },
  {
   "cell_type": "code",
   "execution_count": null,
   "metadata": {
    "id": "4ijOt-E6wec2"
   },
   "outputs": [],
   "source": [
    "from sklearn.ensemble import AdaBoostClassifier\n",
    "from sklearn.tree import DecisionTreeClassifier"
   ]
  },
  {
   "cell_type": "code",
   "execution_count": null,
   "metadata": {
    "id": "9fXviZYOwef_"
   },
   "outputs": [],
   "source": [
    "model = AdaBoostClassifier(DecisionTreeClassifier(min_samples_split=10,max_depth=4),n_estimators=10,learning_rate=0.6)\n",
    "model.fit(X, y)\n",
    "pred = model.predict(X_cv)"
   ]
  },
  {
   "cell_type": "code",
   "execution_count": null,
   "metadata": {
    "colab": {
     "base_uri": "https://localhost:8080/"
    },
    "id": "hqDYGNVvweil",
    "outputId": "8806b7d7-3d03-4ac7-f4a4-ae542aae9a0e"
   },
   "outputs": [
    {
     "name": "stdout",
     "output_type": "stream",
     "text": [
      "0.45694799658994034\n",
      "\n",
      "0.9418848645196606\n",
      "\n",
      "[[10056   625]\n",
      " [   12   268]]\n",
      "\n",
      "              precision    recall  f1-score   support\n",
      "\n",
      "           0       1.00      0.94      0.97     10681\n",
      "           1       0.30      0.96      0.46       280\n",
      "\n",
      "    accuracy                           0.94     10961\n",
      "   macro avg       0.65      0.95      0.71     10961\n",
      "weighted avg       0.98      0.94      0.96     10961\n",
      "\n"
     ]
    }
   ],
   "source": [
    "print(f1_score(pred,y_cv))\n",
    "print()\n",
    "print(accuracy_score(pred,y_cv))\n",
    "print()\n",
    "print(confusion_matrix(pred,y_cv))\n",
    "print()\n",
    "print(classification_report(pred,y_cv))"
   ]
  },
  {
   "cell_type": "code",
   "execution_count": null,
   "metadata": {
    "id": "GpKS0dhIwelg"
   },
   "outputs": [],
   "source": [
    "pred = pd.DataFrame(model.predict(X_test))\n",
    "pred = pd.concat([df_test['employee_id'],pred],axis=1)\n",
    "pred.columns = ['employee_id','is_promoted']\n",
    "pred.to_csv('pred_boosting.csv',index=False)"
   ]
  },
  {
   "cell_type": "markdown",
   "metadata": {
    "id": "Bjlaouxv0fMw"
   },
   "source": [
    "#### Random Forest"
   ]
  },
  {
   "cell_type": "code",
   "execution_count": null,
   "metadata": {
    "id": "gnSDM9XCweox"
   },
   "outputs": [],
   "source": [
    "from sklearn.ensemble import RandomForestClassifier"
   ]
  },
  {
   "cell_type": "code",
   "execution_count": null,
   "metadata": {
    "id": "JA_eGl0zwer8"
   },
   "outputs": [],
   "source": [
    "model = RandomForestClassifier()\n",
    "model.fit(X,y)\n",
    "pred = model.predict(X_cv)"
   ]
  },
  {
   "cell_type": "code",
   "execution_count": null,
   "metadata": {
    "colab": {
     "base_uri": "https://localhost:8080/"
    },
    "id": "XTWn7USHweua",
    "outputId": "de88ffee-360a-4e5a-c457-eca35a29291b"
   },
   "outputs": [
    {
     "name": "stdout",
     "output_type": "stream",
     "text": [
      "0.9988801791713325\n",
      "\n",
      "0.9998175348964511\n",
      "\n",
      "[[10067     1]\n",
      " [    1   892]]\n",
      "\n",
      "              precision    recall  f1-score   support\n",
      "\n",
      "           0       1.00      1.00      1.00     10068\n",
      "           1       1.00      1.00      1.00       893\n",
      "\n",
      "    accuracy                           1.00     10961\n",
      "   macro avg       1.00      1.00      1.00     10961\n",
      "weighted avg       1.00      1.00      1.00     10961\n",
      "\n"
     ]
    }
   ],
   "source": [
    "print(f1_score(pred,y_cv))\n",
    "print()\n",
    "print(accuracy_score(pred,y_cv))\n",
    "print()\n",
    "print(confusion_matrix(pred,y_cv))\n",
    "print()\n",
    "print(classification_report(pred,y_cv))"
   ]
  },
  {
   "cell_type": "code",
   "execution_count": null,
   "metadata": {
    "id": "M9wdhd0wwexM"
   },
   "outputs": [],
   "source": [
    "pred = pd.DataFrame(model.predict(X_test))\n",
    "pred = pd.concat([df_test['employee_id'],pred],axis=1)\n",
    "pred.columns = ['employee_id','is_promoted']\n",
    "pred.to_csv('pred_RandomForest.csv',index=False)"
   ]
  },
  {
   "cell_type": "markdown",
   "metadata": {
    "id": "ios9ijMD1e9k"
   },
   "source": [
    "#### Voting Classifier"
   ]
  },
  {
   "cell_type": "code",
   "execution_count": null,
   "metadata": {
    "id": "E3-J-hVawe1O"
   },
   "outputs": [],
   "source": [
    "from sklearn.ensemble import VotingClassifier\n",
    "from sklearn.naive_bayes import MultinomialNB\n",
    "from sklearn.linear_model import LogisticRegression\n",
    "from sklearn.ensemble import RandomForestClassifier\n",
    "from sklearn.svm import SVC"
   ]
  },
  {
   "cell_type": "code",
   "execution_count": null,
   "metadata": {
    "id": "7OUlYZcP4Xv7"
   },
   "outputs": [],
   "source": [
    "estimator = []\n",
    "estimator.append(('MNB',MultinomialNB()))\n",
    "estimator.append(('LR',LogisticRegression(max_iter=10000000000000)))\n",
    "estimator.append(('RF',RandomForestClassifier()))\n",
    "estimator.append(('SVM',SVC()))"
   ]
  },
  {
   "cell_type": "code",
   "execution_count": null,
   "metadata": {
    "id": "P5M7WFfg5iyf"
   },
   "outputs": [],
   "source": [
    "model = VotingClassifier(estimators=estimator,voting = 'hard')\n",
    "model.fit(X,y)\n",
    "pred = model.predict(X_cv)"
   ]
  },
  {
   "cell_type": "code",
   "execution_count": null,
   "metadata": {
    "colab": {
     "base_uri": "https://localhost:8080/"
    },
    "id": "d4jdwHrWwe8n",
    "outputId": "ae03199c-b0c3-48e5-cd34-92cd6172c49e"
   },
   "outputs": [
    {
     "name": "stdout",
     "output_type": "stream",
     "text": [
      "0.14151925078043706\n",
      "\n",
      "0.9247331447860596\n",
      "\n",
      "[[10068   825]\n",
      " [    0    68]]\n",
      "\n",
      "              precision    recall  f1-score   support\n",
      "\n",
      "           0       1.00      0.92      0.96     10893\n",
      "           1       0.08      1.00      0.14        68\n",
      "\n",
      "    accuracy                           0.92     10961\n",
      "   macro avg       0.54      0.96      0.55     10961\n",
      "weighted avg       0.99      0.92      0.96     10961\n",
      "\n"
     ]
    }
   ],
   "source": [
    "print(f1_score(pred,y_cv))\n",
    "print()\n",
    "print(accuracy_score(pred,y_cv))\n",
    "print()\n",
    "print(confusion_matrix(pred,y_cv))\n",
    "print()\n",
    "print(classification_report(pred,y_cv))"
   ]
  },
  {
   "cell_type": "code",
   "execution_count": null,
   "metadata": {
    "id": "YI5XCndvwe_a"
   },
   "outputs": [],
   "source": [
    "pred = pd.DataFrame(model.predict(X_test))\n",
    "pred = pd.concat([df_test['employee_id'],pred],axis=1)\n",
    "pred.columns = ['employee_id','is_promoted']\n",
    "pred.to_csv('pred_voting.csv',index=False)"
   ]
  },
  {
   "cell_type": "markdown",
   "metadata": {
    "id": "xT51fjXb7WdD"
   },
   "source": [
    "#### Neural Network"
   ]
  },
  {
   "cell_type": "code",
   "execution_count": null,
   "metadata": {
    "id": "Ao_vOJa0wfBa"
   },
   "outputs": [],
   "source": [
    "from keras import layers\n",
    "from keras import models\n",
    "from keras import optimizers\n",
    "from keras import losses\n",
    "from keras import metrics\n",
    "from tensorflow.keras import regularizers"
   ]
  },
  {
   "cell_type": "code",
   "execution_count": null,
   "metadata": {
    "id": "5C8KfLBDIyOh"
   },
   "outputs": [],
   "source": [
    "model=models.Sequential()\n",
    "model.add(layers.Dense(145,activation='relu'))\n",
    "model.add(layers.Dense(74,activation='relu'))\n",
    "model.add(layers.Dense(36,activation='relu'))\n",
    "model.add(layers.Dense(18,activation='relu'))\n",
    "model.add(layers.Dense(9,activation='relu'))\n",
    "model.add(layers.Dense(4,activation='relu'))\n",
    "model.add(layers.Dense(2,activation='relu'))\n",
    "model.add(layers.Dense(1,activation='sigmoid'))"
   ]
  },
  {
   "cell_type": "code",
   "execution_count": null,
   "metadata": {
    "id": "GaefL9MZJAWX"
   },
   "outputs": [],
   "source": [
    "model.compile(optimizer='rmsprop',loss='binary_crossentropy',metrics=['accuracy'])"
   ]
  },
  {
   "cell_type": "code",
   "execution_count": null,
   "metadata": {
    "colab": {
     "base_uri": "https://localhost:8080/"
    },
    "id": "WM4VcPtrJBxs",
    "outputId": "024ad587-a1c8-4af5-9d0b-91e9bc211868"
   },
   "outputs": [
    {
     "name": "stdout",
     "output_type": "stream",
     "text": [
      "Epoch 1/130\n",
      "172/172 [==============================] - 2s 8ms/step - loss: 0.6124 - accuracy: 0.9042 - val_loss: 0.5261 - val_accuracy: 0.9185\n",
      "Epoch 2/130\n",
      "172/172 [==============================] - 1s 6ms/step - loss: 0.4647 - accuracy: 0.9141 - val_loss: 0.4028 - val_accuracy: 0.9185\n",
      "Epoch 3/130\n",
      "172/172 [==============================] - 1s 6ms/step - loss: 0.3648 - accuracy: 0.9141 - val_loss: 0.3235 - val_accuracy: 0.9185\n",
      "Epoch 4/130\n",
      "172/172 [==============================] - 1s 6ms/step - loss: 0.3103 - accuracy: 0.9141 - val_loss: 0.2882 - val_accuracy: 0.9185\n",
      "Epoch 5/130\n",
      "172/172 [==============================] - 1s 6ms/step - loss: 0.2941 - accuracy: 0.9141 - val_loss: 0.2826 - val_accuracy: 0.9185\n",
      "Epoch 6/130\n",
      "172/172 [==============================] - 1s 6ms/step - loss: 0.2930 - accuracy: 0.9141 - val_loss: 0.2825 - val_accuracy: 0.9185\n",
      "Epoch 7/130\n",
      "172/172 [==============================] - 1s 6ms/step - loss: 0.2930 - accuracy: 0.9141 - val_loss: 0.2824 - val_accuracy: 0.9185\n",
      "Epoch 8/130\n",
      "172/172 [==============================] - 1s 6ms/step - loss: 0.2930 - accuracy: 0.9141 - val_loss: 0.2824 - val_accuracy: 0.9185\n",
      "Epoch 9/130\n",
      "172/172 [==============================] - 1s 6ms/step - loss: 0.2930 - accuracy: 0.9141 - val_loss: 0.2824 - val_accuracy: 0.9185\n",
      "Epoch 10/130\n",
      "172/172 [==============================] - 1s 6ms/step - loss: 0.2930 - accuracy: 0.9141 - val_loss: 0.2824 - val_accuracy: 0.9185\n",
      "Epoch 11/130\n",
      "172/172 [==============================] - 1s 6ms/step - loss: 0.2930 - accuracy: 0.9141 - val_loss: 0.2824 - val_accuracy: 0.9185\n",
      "Epoch 12/130\n",
      "172/172 [==============================] - 1s 6ms/step - loss: 0.2930 - accuracy: 0.9141 - val_loss: 0.2825 - val_accuracy: 0.9185\n",
      "Epoch 13/130\n",
      "172/172 [==============================] - 1s 6ms/step - loss: 0.2930 - accuracy: 0.9141 - val_loss: 0.2825 - val_accuracy: 0.9185\n",
      "Epoch 14/130\n",
      "172/172 [==============================] - 1s 6ms/step - loss: 0.2930 - accuracy: 0.9141 - val_loss: 0.2825 - val_accuracy: 0.9185\n",
      "Epoch 15/130\n",
      "172/172 [==============================] - 1s 6ms/step - loss: 0.2930 - accuracy: 0.9141 - val_loss: 0.2824 - val_accuracy: 0.9185\n",
      "Epoch 16/130\n",
      "172/172 [==============================] - 1s 6ms/step - loss: 0.2930 - accuracy: 0.9141 - val_loss: 0.2824 - val_accuracy: 0.9185\n",
      "Epoch 17/130\n",
      "172/172 [==============================] - 1s 6ms/step - loss: 0.2930 - accuracy: 0.9141 - val_loss: 0.2826 - val_accuracy: 0.9185\n",
      "Epoch 18/130\n",
      "172/172 [==============================] - 1s 6ms/step - loss: 0.2930 - accuracy: 0.9141 - val_loss: 0.2826 - val_accuracy: 0.9185\n",
      "Epoch 19/130\n",
      "172/172 [==============================] - 1s 6ms/step - loss: 0.2930 - accuracy: 0.9141 - val_loss: 0.2825 - val_accuracy: 0.9185\n",
      "Epoch 20/130\n",
      "172/172 [==============================] - 1s 6ms/step - loss: 0.2930 - accuracy: 0.9141 - val_loss: 0.2825 - val_accuracy: 0.9185\n",
      "Epoch 21/130\n",
      "172/172 [==============================] - 1s 6ms/step - loss: 0.2930 - accuracy: 0.9141 - val_loss: 0.2825 - val_accuracy: 0.9185\n",
      "Epoch 22/130\n",
      "172/172 [==============================] - 1s 6ms/step - loss: 0.2930 - accuracy: 0.9141 - val_loss: 0.2825 - val_accuracy: 0.9185\n",
      "Epoch 23/130\n",
      "172/172 [==============================] - 1s 6ms/step - loss: 0.2930 - accuracy: 0.9141 - val_loss: 0.2824 - val_accuracy: 0.9185\n",
      "Epoch 24/130\n",
      "172/172 [==============================] - 1s 6ms/step - loss: 0.2930 - accuracy: 0.9141 - val_loss: 0.2824 - val_accuracy: 0.9185\n",
      "Epoch 25/130\n",
      "172/172 [==============================] - 1s 6ms/step - loss: 0.2930 - accuracy: 0.9141 - val_loss: 0.2825 - val_accuracy: 0.9185\n",
      "Epoch 26/130\n",
      "172/172 [==============================] - 1s 6ms/step - loss: 0.2930 - accuracy: 0.9141 - val_loss: 0.2824 - val_accuracy: 0.9185\n",
      "Epoch 27/130\n",
      "172/172 [==============================] - 1s 6ms/step - loss: 0.2930 - accuracy: 0.9141 - val_loss: 0.2824 - val_accuracy: 0.9185\n",
      "Epoch 28/130\n",
      "172/172 [==============================] - 1s 6ms/step - loss: 0.2930 - accuracy: 0.9141 - val_loss: 0.2825 - val_accuracy: 0.9185\n",
      "Epoch 29/130\n",
      "172/172 [==============================] - 1s 6ms/step - loss: 0.2930 - accuracy: 0.9141 - val_loss: 0.2824 - val_accuracy: 0.9185\n",
      "Epoch 30/130\n",
      "172/172 [==============================] - 1s 6ms/step - loss: 0.2930 - accuracy: 0.9141 - val_loss: 0.2825 - val_accuracy: 0.9185\n",
      "Epoch 31/130\n",
      "172/172 [==============================] - 1s 6ms/step - loss: 0.2930 - accuracy: 0.9141 - val_loss: 0.2824 - val_accuracy: 0.9185\n",
      "Epoch 32/130\n",
      "172/172 [==============================] - 1s 6ms/step - loss: 0.2930 - accuracy: 0.9141 - val_loss: 0.2825 - val_accuracy: 0.9185\n",
      "Epoch 33/130\n",
      "172/172 [==============================] - 1s 6ms/step - loss: 0.2930 - accuracy: 0.9141 - val_loss: 0.2824 - val_accuracy: 0.9185\n",
      "Epoch 34/130\n",
      "172/172 [==============================] - 1s 6ms/step - loss: 0.2930 - accuracy: 0.9141 - val_loss: 0.2825 - val_accuracy: 0.9185\n",
      "Epoch 35/130\n",
      "172/172 [==============================] - 1s 6ms/step - loss: 0.2930 - accuracy: 0.9141 - val_loss: 0.2824 - val_accuracy: 0.9185\n",
      "Epoch 36/130\n",
      "172/172 [==============================] - 1s 6ms/step - loss: 0.2930 - accuracy: 0.9141 - val_loss: 0.2825 - val_accuracy: 0.9185\n",
      "Epoch 37/130\n",
      "172/172 [==============================] - 1s 6ms/step - loss: 0.2930 - accuracy: 0.9141 - val_loss: 0.2824 - val_accuracy: 0.9185\n",
      "Epoch 38/130\n",
      "172/172 [==============================] - 1s 6ms/step - loss: 0.2930 - accuracy: 0.9141 - val_loss: 0.2825 - val_accuracy: 0.9185\n",
      "Epoch 39/130\n",
      "172/172 [==============================] - 1s 6ms/step - loss: 0.2930 - accuracy: 0.9141 - val_loss: 0.2824 - val_accuracy: 0.9185\n",
      "Epoch 40/130\n",
      "172/172 [==============================] - 1s 6ms/step - loss: 0.2930 - accuracy: 0.9141 - val_loss: 0.2825 - val_accuracy: 0.9185\n",
      "Epoch 41/130\n",
      "172/172 [==============================] - 1s 6ms/step - loss: 0.2930 - accuracy: 0.9141 - val_loss: 0.2825 - val_accuracy: 0.9185\n",
      "Epoch 42/130\n",
      "172/172 [==============================] - 1s 6ms/step - loss: 0.2930 - accuracy: 0.9141 - val_loss: 0.2824 - val_accuracy: 0.9185\n",
      "Epoch 43/130\n",
      "172/172 [==============================] - 1s 6ms/step - loss: 0.2930 - accuracy: 0.9141 - val_loss: 0.2824 - val_accuracy: 0.9185\n",
      "Epoch 44/130\n",
      "172/172 [==============================] - 1s 6ms/step - loss: 0.2930 - accuracy: 0.9141 - val_loss: 0.2825 - val_accuracy: 0.9185\n",
      "Epoch 45/130\n",
      "172/172 [==============================] - 1s 6ms/step - loss: 0.2930 - accuracy: 0.9141 - val_loss: 0.2825 - val_accuracy: 0.9185\n",
      "Epoch 46/130\n",
      "172/172 [==============================] - 1s 6ms/step - loss: 0.2930 - accuracy: 0.9141 - val_loss: 0.2826 - val_accuracy: 0.9185\n",
      "Epoch 47/130\n",
      "172/172 [==============================] - 1s 6ms/step - loss: 0.2930 - accuracy: 0.9141 - val_loss: 0.2825 - val_accuracy: 0.9185\n",
      "Epoch 48/130\n",
      "172/172 [==============================] - 1s 6ms/step - loss: 0.2930 - accuracy: 0.9141 - val_loss: 0.2824 - val_accuracy: 0.9185\n",
      "Epoch 49/130\n",
      "172/172 [==============================] - 1s 6ms/step - loss: 0.2930 - accuracy: 0.9141 - val_loss: 0.2825 - val_accuracy: 0.9185\n",
      "Epoch 50/130\n",
      "172/172 [==============================] - 1s 6ms/step - loss: 0.2930 - accuracy: 0.9141 - val_loss: 0.2825 - val_accuracy: 0.9185\n",
      "Epoch 51/130\n",
      "172/172 [==============================] - 1s 6ms/step - loss: 0.2930 - accuracy: 0.9141 - val_loss: 0.2826 - val_accuracy: 0.9185\n",
      "Epoch 52/130\n",
      "172/172 [==============================] - 1s 6ms/step - loss: 0.2930 - accuracy: 0.9141 - val_loss: 0.2825 - val_accuracy: 0.9185\n",
      "Epoch 53/130\n",
      "172/172 [==============================] - 1s 6ms/step - loss: 0.2930 - accuracy: 0.9141 - val_loss: 0.2824 - val_accuracy: 0.9185\n",
      "Epoch 54/130\n",
      "172/172 [==============================] - 1s 6ms/step - loss: 0.2930 - accuracy: 0.9141 - val_loss: 0.2824 - val_accuracy: 0.9185\n",
      "Epoch 55/130\n",
      "172/172 [==============================] - 1s 6ms/step - loss: 0.2930 - accuracy: 0.9141 - val_loss: 0.2825 - val_accuracy: 0.9185\n",
      "Epoch 56/130\n",
      "172/172 [==============================] - 1s 6ms/step - loss: 0.2930 - accuracy: 0.9141 - val_loss: 0.2825 - val_accuracy: 0.9185\n",
      "Epoch 58/130\n",
      "172/172 [==============================] - 1s 6ms/step - loss: 0.2930 - accuracy: 0.9141 - val_loss: 0.2824 - val_accuracy: 0.9185\n",
      "Epoch 59/130\n",
      "172/172 [==============================] - 1s 6ms/step - loss: 0.2930 - accuracy: 0.9141 - val_loss: 0.2825 - val_accuracy: 0.9185\n",
      "Epoch 60/130\n",
      "172/172 [==============================] - 1s 6ms/step - loss: 0.2930 - accuracy: 0.9141 - val_loss: 0.2824 - val_accuracy: 0.9185\n",
      "Epoch 61/130\n",
      "172/172 [==============================] - 1s 5ms/step - loss: 0.2930 - accuracy: 0.9141 - val_loss: 0.2824 - val_accuracy: 0.9185\n",
      "Epoch 62/130\n",
      "172/172 [==============================] - 1s 6ms/step - loss: 0.2930 - accuracy: 0.9141 - val_loss: 0.2824 - val_accuracy: 0.9185\n",
      "Epoch 63/130\n",
      "172/172 [==============================] - 1s 6ms/step - loss: 0.2930 - accuracy: 0.9141 - val_loss: 0.2825 - val_accuracy: 0.9185\n",
      "Epoch 64/130\n",
      "172/172 [==============================] - 1s 6ms/step - loss: 0.2930 - accuracy: 0.9141 - val_loss: 0.2825 - val_accuracy: 0.9185\n",
      "Epoch 65/130\n",
      "172/172 [==============================] - 1s 6ms/step - loss: 0.2930 - accuracy: 0.9141 - val_loss: 0.2825 - val_accuracy: 0.9185\n",
      "Epoch 66/130\n",
      "172/172 [==============================] - 1s 6ms/step - loss: 0.2930 - accuracy: 0.9141 - val_loss: 0.2825 - val_accuracy: 0.9185\n",
      "Epoch 67/130\n",
      "172/172 [==============================] - 1s 6ms/step - loss: 0.2930 - accuracy: 0.9141 - val_loss: 0.2825 - val_accuracy: 0.9185\n",
      "Epoch 68/130\n",
      "172/172 [==============================] - 1s 6ms/step - loss: 0.2930 - accuracy: 0.9141 - val_loss: 0.2824 - val_accuracy: 0.9185\n",
      "Epoch 69/130\n",
      "172/172 [==============================] - 1s 6ms/step - loss: 0.2930 - accuracy: 0.9141 - val_loss: 0.2824 - val_accuracy: 0.9185\n",
      "Epoch 70/130\n",
      "172/172 [==============================] - 1s 6ms/step - loss: 0.2930 - accuracy: 0.9141 - val_loss: 0.2825 - val_accuracy: 0.9185\n",
      "Epoch 71/130\n",
      "172/172 [==============================] - 1s 6ms/step - loss: 0.2930 - accuracy: 0.9141 - val_loss: 0.2824 - val_accuracy: 0.9185\n",
      "Epoch 72/130\n",
      "172/172 [==============================] - 1s 6ms/step - loss: 0.2930 - accuracy: 0.9141 - val_loss: 0.2824 - val_accuracy: 0.9185\n",
      "Epoch 73/130\n",
      "172/172 [==============================] - 1s 6ms/step - loss: 0.2930 - accuracy: 0.9141 - val_loss: 0.2825 - val_accuracy: 0.9185\n",
      "Epoch 74/130\n",
      "172/172 [==============================] - 1s 6ms/step - loss: 0.2930 - accuracy: 0.9141 - val_loss: 0.2825 - val_accuracy: 0.9185\n",
      "Epoch 75/130\n",
      "172/172 [==============================] - 1s 6ms/step - loss: 0.2930 - accuracy: 0.9141 - val_loss: 0.2824 - val_accuracy: 0.9185\n",
      "Epoch 76/130\n",
      "172/172 [==============================] - 1s 6ms/step - loss: 0.2930 - accuracy: 0.9141 - val_loss: 0.2825 - val_accuracy: 0.9185\n",
      "Epoch 77/130\n",
      "172/172 [==============================] - 1s 6ms/step - loss: 0.2930 - accuracy: 0.9141 - val_loss: 0.2824 - val_accuracy: 0.9185\n",
      "Epoch 78/130\n",
      "172/172 [==============================] - 1s 6ms/step - loss: 0.2930 - accuracy: 0.9141 - val_loss: 0.2826 - val_accuracy: 0.9185\n",
      "Epoch 79/130\n",
      "172/172 [==============================] - 1s 6ms/step - loss: 0.2930 - accuracy: 0.9141 - val_loss: 0.2825 - val_accuracy: 0.9185\n",
      "Epoch 80/130\n",
      "172/172 [==============================] - 1s 6ms/step - loss: 0.2930 - accuracy: 0.9141 - val_loss: 0.2826 - val_accuracy: 0.9185\n",
      "Epoch 81/130\n",
      "172/172 [==============================] - 1s 6ms/step - loss: 0.2930 - accuracy: 0.9141 - val_loss: 0.2825 - val_accuracy: 0.9185\n",
      "Epoch 82/130\n",
      "172/172 [==============================] - 1s 6ms/step - loss: 0.2930 - accuracy: 0.9141 - val_loss: 0.2825 - val_accuracy: 0.9185\n",
      "Epoch 83/130\n",
      "172/172 [==============================] - 1s 6ms/step - loss: 0.2930 - accuracy: 0.9141 - val_loss: 0.2826 - val_accuracy: 0.9185\n",
      "Epoch 84/130\n",
      "172/172 [==============================] - 1s 6ms/step - loss: 0.2930 - accuracy: 0.9141 - val_loss: 0.2825 - val_accuracy: 0.9185\n",
      "Epoch 85/130\n",
      "172/172 [==============================] - 1s 6ms/step - loss: 0.2930 - accuracy: 0.9141 - val_loss: 0.2824 - val_accuracy: 0.9185\n",
      "Epoch 86/130\n",
      "172/172 [==============================] - 1s 6ms/step - loss: 0.2930 - accuracy: 0.9141 - val_loss: 0.2824 - val_accuracy: 0.9185\n",
      "Epoch 87/130\n",
      "172/172 [==============================] - 1s 6ms/step - loss: 0.2930 - accuracy: 0.9141 - val_loss: 0.2825 - val_accuracy: 0.9185\n",
      "Epoch 88/130\n",
      "172/172 [==============================] - 1s 6ms/step - loss: 0.2930 - accuracy: 0.9141 - val_loss: 0.2825 - val_accuracy: 0.9185\n",
      "Epoch 89/130\n",
      "172/172 [==============================] - 1s 6ms/step - loss: 0.2930 - accuracy: 0.9141 - val_loss: 0.2824 - val_accuracy: 0.9185\n",
      "Epoch 90/130\n",
      "172/172 [==============================] - 1s 6ms/step - loss: 0.2930 - accuracy: 0.9141 - val_loss: 0.2826 - val_accuracy: 0.9185\n",
      "Epoch 91/130\n",
      "172/172 [==============================] - 1s 6ms/step - loss: 0.2930 - accuracy: 0.9141 - val_loss: 0.2824 - val_accuracy: 0.9185\n",
      "Epoch 92/130\n",
      "172/172 [==============================] - 1s 6ms/step - loss: 0.2930 - accuracy: 0.9141 - val_loss: 0.2825 - val_accuracy: 0.9185\n",
      "Epoch 93/130\n",
      "172/172 [==============================] - 1s 6ms/step - loss: 0.2930 - accuracy: 0.9141 - val_loss: 0.2825 - val_accuracy: 0.9185\n",
      "Epoch 94/130\n",
      "172/172 [==============================] - 1s 6ms/step - loss: 0.2930 - accuracy: 0.9141 - val_loss: 0.2825 - val_accuracy: 0.9185\n",
      "Epoch 95/130\n",
      "172/172 [==============================] - 1s 6ms/step - loss: 0.2930 - accuracy: 0.9141 - val_loss: 0.2824 - val_accuracy: 0.9185\n",
      "Epoch 96/130\n",
      "172/172 [==============================] - 1s 6ms/step - loss: 0.2930 - accuracy: 0.9141 - val_loss: 0.2825 - val_accuracy: 0.9185\n",
      "Epoch 97/130\n",
      "172/172 [==============================] - 1s 6ms/step - loss: 0.2930 - accuracy: 0.9141 - val_loss: 0.2825 - val_accuracy: 0.9185\n",
      "Epoch 98/130\n",
      "172/172 [==============================] - 1s 6ms/step - loss: 0.2930 - accuracy: 0.9141 - val_loss: 0.2825 - val_accuracy: 0.9185\n",
      "Epoch 99/130\n",
      "172/172 [==============================] - 1s 6ms/step - loss: 0.2930 - accuracy: 0.9141 - val_loss: 0.2825 - val_accuracy: 0.9185\n",
      "Epoch 100/130\n",
      "172/172 [==============================] - 1s 6ms/step - loss: 0.2930 - accuracy: 0.9141 - val_loss: 0.2824 - val_accuracy: 0.9185\n",
      "Epoch 101/130\n",
      "172/172 [==============================] - 1s 6ms/step - loss: 0.2930 - accuracy: 0.9141 - val_loss: 0.2824 - val_accuracy: 0.9185\n",
      "Epoch 102/130\n",
      "172/172 [==============================] - 1s 6ms/step - loss: 0.2930 - accuracy: 0.9141 - val_loss: 0.2827 - val_accuracy: 0.9185\n",
      "Epoch 103/130\n",
      "172/172 [==============================] - 1s 6ms/step - loss: 0.2930 - accuracy: 0.9141 - val_loss: 0.2823 - val_accuracy: 0.9185\n",
      "Epoch 104/130\n",
      "172/172 [==============================] - 1s 6ms/step - loss: 0.2930 - accuracy: 0.9141 - val_loss: 0.2826 - val_accuracy: 0.9185\n",
      "Epoch 105/130\n",
      "172/172 [==============================] - 1s 6ms/step - loss: 0.2930 - accuracy: 0.9141 - val_loss: 0.2826 - val_accuracy: 0.9185\n",
      "Epoch 106/130\n",
      "172/172 [==============================] - 1s 6ms/step - loss: 0.2930 - accuracy: 0.9141 - val_loss: 0.2824 - val_accuracy: 0.9185\n",
      "Epoch 107/130\n",
      "172/172 [==============================] - 1s 6ms/step - loss: 0.2930 - accuracy: 0.9141 - val_loss: 0.2824 - val_accuracy: 0.9185\n",
      "Epoch 108/130\n",
      "172/172 [==============================] - 1s 6ms/step - loss: 0.2930 - accuracy: 0.9141 - val_loss: 0.2824 - val_accuracy: 0.9185\n",
      "Epoch 109/130\n",
      "172/172 [==============================] - 1s 6ms/step - loss: 0.2930 - accuracy: 0.9141 - val_loss: 0.2825 - val_accuracy: 0.9185\n",
      "Epoch 110/130\n",
      "172/172 [==============================] - 1s 6ms/step - loss: 0.2930 - accuracy: 0.9141 - val_loss: 0.2824 - val_accuracy: 0.9185\n",
      "Epoch 111/130\n",
      "172/172 [==============================] - 1s 6ms/step - loss: 0.2930 - accuracy: 0.9141 - val_loss: 0.2825 - val_accuracy: 0.9185\n",
      "Epoch 112/130\n",
      "172/172 [==============================] - 1s 6ms/step - loss: 0.2930 - accuracy: 0.9141 - val_loss: 0.2825 - val_accuracy: 0.9185\n",
      "Epoch 113/130\n",
      "172/172 [==============================] - 1s 6ms/step - loss: 0.2930 - accuracy: 0.9141 - val_loss: 0.2826 - val_accuracy: 0.9185\n",
      "Epoch 114/130\n",
      "172/172 [==============================] - 1s 6ms/step - loss: 0.2930 - accuracy: 0.9141 - val_loss: 0.2824 - val_accuracy: 0.9185\n",
      "Epoch 115/130\n",
      "172/172 [==============================] - 1s 6ms/step - loss: 0.2930 - accuracy: 0.9141 - val_loss: 0.2825 - val_accuracy: 0.9185\n",
      "Epoch 116/130\n",
      "172/172 [==============================] - 1s 6ms/step - loss: 0.2930 - accuracy: 0.9141 - val_loss: 0.2825 - val_accuracy: 0.9185\n",
      "Epoch 117/130\n",
      "172/172 [==============================] - 1s 6ms/step - loss: 0.2930 - accuracy: 0.9141 - val_loss: 0.2824 - val_accuracy: 0.9185\n",
      "Epoch 118/130\n",
      "172/172 [==============================] - 1s 7ms/step - loss: 0.2930 - accuracy: 0.9141 - val_loss: 0.2824 - val_accuracy: 0.9185\n",
      "Epoch 119/130\n",
      "172/172 [==============================] - 1s 6ms/step - loss: 0.2930 - accuracy: 0.9141 - val_loss: 0.2824 - val_accuracy: 0.9185\n",
      "Epoch 120/130\n",
      "172/172 [==============================] - 1s 6ms/step - loss: 0.2930 - accuracy: 0.9141 - val_loss: 0.2825 - val_accuracy: 0.9185\n",
      "Epoch 121/130\n",
      "172/172 [==============================] - 1s 6ms/step - loss: 0.2930 - accuracy: 0.9141 - val_loss: 0.2824 - val_accuracy: 0.9185\n",
      "Epoch 122/130\n",
      "172/172 [==============================] - 1s 6ms/step - loss: 0.2930 - accuracy: 0.9141 - val_loss: 0.2824 - val_accuracy: 0.9185\n",
      "Epoch 123/130\n",
      "172/172 [==============================] - 1s 6ms/step - loss: 0.2930 - accuracy: 0.9141 - val_loss: 0.2824 - val_accuracy: 0.9185\n",
      "Epoch 124/130\n",
      "172/172 [==============================] - 1s 6ms/step - loss: 0.2930 - accuracy: 0.9141 - val_loss: 0.2825 - val_accuracy: 0.9185\n",
      "Epoch 125/130\n",
      "172/172 [==============================] - 1s 6ms/step - loss: 0.2930 - accuracy: 0.9141 - val_loss: 0.2825 - val_accuracy: 0.9185\n",
      "Epoch 126/130\n",
      "172/172 [==============================] - 1s 6ms/step - loss: 0.2930 - accuracy: 0.9141 - val_loss: 0.2825 - val_accuracy: 0.9185\n",
      "Epoch 127/130\n",
      "172/172 [==============================] - 1s 6ms/step - loss: 0.2930 - accuracy: 0.9141 - val_loss: 0.2825 - val_accuracy: 0.9185\n",
      "Epoch 128/130\n",
      "172/172 [==============================] - 1s 6ms/step - loss: 0.2930 - accuracy: 0.9141 - val_loss: 0.2824 - val_accuracy: 0.9185\n",
      "Epoch 129/130\n",
      "172/172 [==============================] - 1s 6ms/step - loss: 0.2930 - accuracy: 0.9141 - val_loss: 0.2824 - val_accuracy: 0.9185\n",
      "Epoch 130/130\n",
      "172/172 [==============================] - 1s 6ms/step - loss: 0.2930 - accuracy: 0.9141 - val_loss: 0.2825 - val_accuracy: 0.9185\n"
     ]
    },
    {
     "data": {
      "text/plain": [
       "<keras.callbacks.History at 0x7fdff0cdca90>"
      ]
     },
     "execution_count": 135,
     "metadata": {},
     "output_type": "execute_result"
    }
   ],
   "source": [
    "model.fit(X_train,y_train,epochs=130,batch_size=256,validation_data=(X_cv,y_cv))"
   ]
  },
  {
   "cell_type": "code",
   "execution_count": null,
   "metadata": {
    "colab": {
     "base_uri": "https://localhost:8080/",
     "height": 282
    },
    "id": "CKkHaxj5wfHw",
    "outputId": "0a14d53d-0eaf-4990-a87e-0890ab2cfcd7"
   },
   "outputs": [
    {
     "data": {
      "text/plain": [
       "<matplotlib.axes._subplots.AxesSubplot at 0x7fdfeda15c10>"
      ]
     },
     "execution_count": 136,
     "metadata": {},
     "output_type": "execute_result"
    },
    {
     "data": {
      "image/png": "[encoded data removed]",
      "text/plain": [
       "<Figure size 432x288 with 1 Axes>"
      ]
     },
     "metadata": {
      "needs_background": "light"
     },
     "output_type": "display_data"
    }
   ],
   "source": [
    "# CODE HERE\n",
    "losses = pd.DataFrame(model.history.history)\n",
    "losses[['val_loss','loss']].plot()"
   ]
  },
  {
   "cell_type": "code",
   "execution_count": null,
   "metadata": {
    "id": "0ylFJCtuBn5e"
   },
   "outputs": [],
   "source": [
    "pred = (model.predict(X_cv) > 0.5).astype(\"int32\")"
   ]
  },
  {
   "cell_type": "code",
   "execution_count": null,
   "metadata": {
    "colab": {
     "base_uri": "https://localhost:8080/"
    },
    "id": "aIQ9h3WJwfP3",
    "outputId": "58e6ac8f-7e1a-41e4-cf19-ad5c64002ca7"
   },
   "outputs": [
    {
     "name": "stdout",
     "output_type": "stream",
     "text": [
      "0.0\n",
      "\n",
      "0.9185293312653955\n",
      "\n",
      "[[10068   893]\n",
      " [    0     0]]\n",
      "\n",
      "              precision    recall  f1-score   support\n",
      "\n",
      "           0       1.00      0.92      0.96     10961\n",
      "           1       0.00      0.00      0.00         0\n",
      "\n",
      "    accuracy                           0.92     10961\n",
      "   macro avg       0.50      0.46      0.48     10961\n",
      "weighted avg       1.00      0.92      0.96     10961\n",
      "\n"
     ]
    },
    {
     "name": "stderr",
     "output_type": "stream",
     "text": [
      "/usr/local/lib/python3.7/dist-packages/sklearn/metrics/_classification.py:1318: UndefinedMetricWarning: Recall and F-score are ill-defined and being set to 0.0 in labels with no true samples. Use `zero_division` parameter to control this behavior.\n",
      "  _warn_prf(average, modifier, msg_start, len(result))\n",
      "/usr/local/lib/python3.7/dist-packages/sklearn/metrics/_classification.py:1318: UndefinedMetricWarning: Recall and F-score are ill-defined and being set to 0.0 in labels with no true samples. Use `zero_division` parameter to control this behavior.\n",
      "  _warn_prf(average, modifier, msg_start, len(result))\n",
      "/usr/local/lib/python3.7/dist-packages/sklearn/metrics/_classification.py:1318: UndefinedMetricWarning: Recall and F-score are ill-defined and being set to 0.0 in labels with no true samples. Use `zero_division` parameter to control this behavior.\n",
      "  _warn_prf(average, modifier, msg_start, len(result))\n"
     ]
    }
   ],
   "source": [
    "print(f1_score(pred,y_cv))\n",
    "print()\n",
    "print(accuracy_score(pred,y_cv))\n",
    "print()\n",
    "print(confusion_matrix(pred,y_cv))\n",
    "print()\n",
    "print(classification_report(pred,y_cv))"
   ]
  },
  {
   "cell_type": "code",
   "execution_count": null,
   "metadata": {
    "id": "KSZSXq1LbM4y"
   },
   "outputs": [],
   "source": [
    "pred = (model.predict(X_test) > 0.5).astype(\"int32\")\n",
    "pred_test = []\n",
    "for i in range(len(pred)):\n",
    "  pred_test.append(pred[i][0])\n",
    "pred_test = pd.DataFrame(pred_test)\n",
    "pred = pd.concat([df_test['employee_id'],pred_test],axis=1)\n",
    "pred.columns = ['employee_id','is_promoted']\n",
    "pred.to_csv('pred_neural3.csv',index=False)"
   ]
  },
  {
   "cell_type": "code",
   "execution_count": null,
   "metadata": {
    "id": "0MZgKuAdwfSs"
   },
   "outputs": [],
   "source": [
    "model=models.Sequential()\n",
    "model.add(layers.Dense(145,kernel_regularizer=regularizers.l2(0.003),activation='relu'))\n",
    "model.add(layers.Dropout(0.5))\n",
    "model.add(layers.Dense(72,kernel_regularizer=regularizers.l2(0.003),activation='relu'))\n",
    "model.add(layers.Dropout(0.5))\n",
    "#model.add(layers.Dense(36,kernel_regularizer=regularizers.l2(0.003),activation='relu'))\n",
    "#model.add(layers.Dropout(0.5))\n",
    "#model.add(layers.Dense(18,kernel_regularizer=regularizers.l2(0.003),activation='relu'))\n",
    "#model.add(layers.Dropout(0.5))\n",
    "#model.add(layers.Dense(9,kernel_regularizer=regularizers.l2(0.003),activation='relu'))\n",
    "#model.add(layers.Dropout(0.5))\n",
    "#model.add(layers.Dense(4,kernel_regularizer=regularizers.l2(0.003),activation='relu'))\n",
    "#model.add(layers.Dropout(0.5))\n",
    "#model.add(layers.Dense(2,kernel_regularizer=regularizers.l2(0.003),activation='relu'))\n",
    "#model.add(layers.Dropout(0.5))\n",
    "model.add(layers.Dense(1,activation='sigmoid'))\n",
    "model.compile(optimizer='rmsprop',loss='binary_crossentropy',metrics=['accuracy'])"
   ]
  },
  {
   "cell_type": "code",
   "execution_count": null,
   "metadata": {
    "colab": {
     "base_uri": "https://localhost:8080/"
    },
    "id": "mrwZc3W-kvaB",
    "outputId": "833a85a2-0077-4a2a-f71c-733e89a7cdb3"
   },
   "outputs": [
    {
     "name": "stdout",
     "output_type": "stream",
     "text": [
      "Epoch 1/50\n",
      "172/172 [==============================] - 3s 11ms/step - loss: 0.7622 - accuracy: 0.8869 - val_loss: 0.4069 - val_accuracy: 0.9185\n",
      "Epoch 2/50\n",
      "172/172 [==============================] - 1s 7ms/step - loss: 0.3835 - accuracy: 0.9141 - val_loss: 0.3056 - val_accuracy: 0.9185\n",
      "Epoch 3/50\n",
      "172/172 [==============================] - 1s 6ms/step - loss: 0.3136 - accuracy: 0.9141 - val_loss: 0.2697 - val_accuracy: 0.9185\n",
      "Epoch 4/50\n",
      "172/172 [==============================] - 1s 6ms/step - loss: 0.2823 - accuracy: 0.9141 - val_loss: 0.2711 - val_accuracy: 0.9185\n",
      "Epoch 5/50\n",
      "172/172 [==============================] - 1s 6ms/step - loss: 0.2660 - accuracy: 0.9141 - val_loss: 0.2503 - val_accuracy: 0.9185\n",
      "Epoch 6/50\n",
      "172/172 [==============================] - 1s 5ms/step - loss: 0.2600 - accuracy: 0.9144 - val_loss: 0.2390 - val_accuracy: 0.9186\n",
      "Epoch 7/50\n",
      "172/172 [==============================] - 1s 5ms/step - loss: 0.2567 - accuracy: 0.9161 - val_loss: 0.2321 - val_accuracy: 0.9210\n",
      "Epoch 8/50\n",
      "172/172 [==============================] - 1s 6ms/step - loss: 0.2528 - accuracy: 0.9172 - val_loss: 0.2553 - val_accuracy: 0.9298\n",
      "Epoch 9/50\n",
      "172/172 [==============================] - 1s 6ms/step - loss: 0.2521 - accuracy: 0.9187 - val_loss: 0.2426 - val_accuracy: 0.9219\n",
      "Epoch 10/50\n",
      "172/172 [==============================] - 1s 5ms/step - loss: 0.2492 - accuracy: 0.9198 - val_loss: 0.2382 - val_accuracy: 0.9259\n",
      "Epoch 11/50\n",
      "172/172 [==============================] - 1s 5ms/step - loss: 0.2481 - accuracy: 0.9211 - val_loss: 0.2594 - val_accuracy: 0.9222\n",
      "Epoch 12/50\n",
      "172/172 [==============================] - 1s 5ms/step - loss: 0.2469 - accuracy: 0.9217 - val_loss: 0.2387 - val_accuracy: 0.9236\n",
      "Epoch 13/50\n",
      "172/172 [==============================] - 1s 5ms/step - loss: 0.2455 - accuracy: 0.9219 - val_loss: 0.2235 - val_accuracy: 0.9308\n",
      "Epoch 14/50\n",
      "172/172 [==============================] - 1s 6ms/step - loss: 0.2438 - accuracy: 0.9236 - val_loss: 0.2456 - val_accuracy: 0.9333\n",
      "Epoch 15/50\n",
      "172/172 [==============================] - 1s 5ms/step - loss: 0.2439 - accuracy: 0.9221 - val_loss: 0.2545 - val_accuracy: 0.9261\n",
      "Epoch 16/50\n",
      "172/172 [==============================] - 1s 5ms/step - loss: 0.2433 - accuracy: 0.9231 - val_loss: 0.2205 - val_accuracy: 0.9318\n",
      "Epoch 17/50\n",
      "172/172 [==============================] - 1s 5ms/step - loss: 0.2412 - accuracy: 0.9241 - val_loss: 0.2303 - val_accuracy: 0.9291\n",
      "Epoch 18/50\n",
      "172/172 [==============================] - 1s 5ms/step - loss: 0.2410 - accuracy: 0.9237 - val_loss: 0.2213 - val_accuracy: 0.9299\n",
      "Epoch 19/50\n",
      "172/172 [==============================] - 1s 6ms/step - loss: 0.2412 - accuracy: 0.9242 - val_loss: 0.2170 - val_accuracy: 0.9324\n",
      "Epoch 20/50\n",
      "172/172 [==============================] - 1s 6ms/step - loss: 0.2398 - accuracy: 0.9254 - val_loss: 0.2556 - val_accuracy: 0.9281\n",
      "Epoch 21/50\n",
      "172/172 [==============================] - 1s 5ms/step - loss: 0.2413 - accuracy: 0.9246 - val_loss: 0.2214 - val_accuracy: 0.9301\n",
      "Epoch 22/50\n",
      "172/172 [==============================] - 1s 6ms/step - loss: 0.2384 - accuracy: 0.9252 - val_loss: 0.2164 - val_accuracy: 0.9358\n",
      "Epoch 23/50\n",
      "172/172 [==============================] - 1s 6ms/step - loss: 0.2380 - accuracy: 0.9254 - val_loss: 0.2196 - val_accuracy: 0.9316\n",
      "Epoch 24/50\n",
      "172/172 [==============================] - 1s 6ms/step - loss: 0.2382 - accuracy: 0.9259 - val_loss: 0.2108 - val_accuracy: 0.9351\n",
      "Epoch 25/50\n",
      "172/172 [==============================] - 1s 6ms/step - loss: 0.2378 - accuracy: 0.9262 - val_loss: 0.2141 - val_accuracy: 0.9326\n",
      "Epoch 26/50\n",
      "172/172 [==============================] - 1s 6ms/step - loss: 0.2376 - accuracy: 0.9266 - val_loss: 0.3109 - val_accuracy: 0.9069\n",
      "Epoch 27/50\n",
      "172/172 [==============================] - 1s 5ms/step - loss: 0.2354 - accuracy: 0.9268 - val_loss: 0.2209 - val_accuracy: 0.9307\n",
      "Epoch 28/50\n",
      "172/172 [==============================] - 1s 6ms/step - loss: 0.2360 - accuracy: 0.9266 - val_loss: 0.2110 - val_accuracy: 0.9347\n",
      "Epoch 29/50\n",
      "172/172 [==============================] - 1s 5ms/step - loss: 0.2374 - accuracy: 0.9263 - val_loss: 0.2174 - val_accuracy: 0.9321\n",
      "Epoch 30/50\n",
      "172/172 [==============================] - 1s 6ms/step - loss: 0.2357 - accuracy: 0.9269 - val_loss: 0.2099 - val_accuracy: 0.9348\n",
      "Epoch 31/50\n",
      "172/172 [==============================] - 1s 5ms/step - loss: 0.2323 - accuracy: 0.9277 - val_loss: 0.2328 - val_accuracy: 0.9287\n",
      "Epoch 32/50\n",
      "172/172 [==============================] - 1s 5ms/step - loss: 0.2358 - accuracy: 0.9263 - val_loss: 0.2816 - val_accuracy: 0.9105\n",
      "Epoch 33/50\n",
      "172/172 [==============================] - 1s 6ms/step - loss: 0.2350 - accuracy: 0.9261 - val_loss: 0.2142 - val_accuracy: 0.9320\n",
      "Epoch 34/50\n",
      "172/172 [==============================] - 1s 6ms/step - loss: 0.2337 - accuracy: 0.9280 - val_loss: 0.2130 - val_accuracy: 0.9327\n",
      "Epoch 35/50\n",
      "172/172 [==============================] - 1s 6ms/step - loss: 0.2324 - accuracy: 0.9282 - val_loss: 0.2132 - val_accuracy: 0.9329\n",
      "Epoch 36/50\n",
      "172/172 [==============================] - 1s 6ms/step - loss: 0.2334 - accuracy: 0.9271 - val_loss: 0.2084 - val_accuracy: 0.9352\n",
      "Epoch 37/50\n",
      "172/172 [==============================] - 1s 5ms/step - loss: 0.2321 - accuracy: 0.9271 - val_loss: 0.2062 - val_accuracy: 0.9374\n",
      "Epoch 38/50\n",
      "172/172 [==============================] - 1s 5ms/step - loss: 0.2341 - accuracy: 0.9278 - val_loss: 0.2144 - val_accuracy: 0.9327\n",
      "Epoch 39/50\n",
      "172/172 [==============================] - 1s 6ms/step - loss: 0.2324 - accuracy: 0.9276 - val_loss: 0.2172 - val_accuracy: 0.9309\n",
      "Epoch 40/50\n",
      "172/172 [==============================] - 1s 5ms/step - loss: 0.2323 - accuracy: 0.9282 - val_loss: 0.2030 - val_accuracy: 0.9387\n",
      "Epoch 41/50\n",
      "172/172 [==============================] - 1s 5ms/step - loss: 0.2308 - accuracy: 0.9288 - val_loss: 0.2046 - val_accuracy: 0.9374\n",
      "Epoch 42/50\n",
      "172/172 [==============================] - 1s 6ms/step - loss: 0.2303 - accuracy: 0.9291 - val_loss: 0.2066 - val_accuracy: 0.9397\n",
      "Epoch 43/50\n",
      "172/172 [==============================] - 1s 5ms/step - loss: 0.2313 - accuracy: 0.9283 - val_loss: 0.2042 - val_accuracy: 0.9411\n",
      "Epoch 44/50\n",
      "172/172 [==============================] - 1s 5ms/step - loss: 0.2317 - accuracy: 0.9285 - val_loss: 0.2075 - val_accuracy: 0.9350\n",
      "Epoch 45/50\n",
      "172/172 [==============================] - 1s 5ms/step - loss: 0.2314 - accuracy: 0.9284 - val_loss: 0.3102 - val_accuracy: 0.8756\n",
      "Epoch 46/50\n",
      "172/172 [==============================] - 1s 6ms/step - loss: 0.2301 - accuracy: 0.9277 - val_loss: 0.2072 - val_accuracy: 0.9353\n",
      "Epoch 47/50\n",
      "172/172 [==============================] - 1s 6ms/step - loss: 0.2308 - accuracy: 0.9291 - val_loss: 0.2294 - val_accuracy: 0.9403\n",
      "Epoch 48/50\n",
      "172/172 [==============================] - 1s 6ms/step - loss: 0.2304 - accuracy: 0.9276 - val_loss: 0.2260 - val_accuracy: 0.9298\n",
      "Epoch 49/50\n",
      "172/172 [==============================] - 1s 5ms/step - loss: 0.2311 - accuracy: 0.9283 - val_loss: 0.2055 - val_accuracy: 0.9366\n",
      "Epoch 50/50\n",
      "172/172 [==============================] - 1s 5ms/step - loss: 0.2290 - accuracy: 0.9283 - val_loss: 0.2160 - val_accuracy: 0.9327\n"
     ]
    },
    {
     "data": {
      "text/plain": [
       "<keras.callbacks.History at 0x7f2f32895910>"
      ]
     },
     "execution_count": 69,
     "metadata": {},
     "output_type": "execute_result"
    }
   ],
   "source": [
    "model.fit(X_train,y_train,epochs=50,batch_size=256,validation_data=(X_cv,y_cv))"
   ]
  },
  {
   "cell_type": "code",
   "execution_count": null,
   "metadata": {
    "colab": {
     "base_uri": "https://localhost:8080/",
     "height": 282
    },
    "id": "MUf8-0L_kvSU",
    "outputId": "b0e6da62-7b7b-4bcc-865f-6e0e533fec3a"
   },
   "outputs": [
    {
     "data": {
      "text/plain": [
       "<matplotlib.axes._subplots.AxesSubplot at 0x7f2f326f7590>"
      ]
     },
     "execution_count": 70,
     "metadata": {},
     "output_type": "execute_result"
    },
    {
     "data": {
      "image/png": "[encoded data removed]",
      "text/plain": [
       "<Figure size 432x288 with 1 Axes>"
      ]
     },
     "metadata": {
      "needs_background": "light"
     },
     "output_type": "display_data"
    }
   ],
   "source": [
    "# CODE HERE\n",
    "losses = pd.DataFrame(model.history.history)\n",
    "losses[['val_loss','loss']].plot()"
   ]
  },
  {
   "cell_type": "code",
   "execution_count": null,
   "metadata": {
    "id": "GJevIUbnk_1r"
   },
   "outputs": [],
   "source": [
    "pred = (model.predict(X_cv) > 0.5).astype(\"int32\")"
   ]
  },
  {
   "cell_type": "code",
   "execution_count": null,
   "metadata": {
    "colab": {
     "base_uri": "https://localhost:8080/"
    },
    "id": "EI7KfcsYk_vR",
    "outputId": "55f5de6c-3861-4b50-b359-9221c1e384da"
   },
   "outputs": [
    {
     "name": "stdout",
     "output_type": "stream",
     "text": [
      "0.29714285714285715\n",
      "\n",
      "0.9326703767904388\n",
      "\n",
      "[[10067   737]\n",
      " [    1   156]]\n",
      "\n",
      "              precision    recall  f1-score   support\n",
      "\n",
      "           0       1.00      0.93      0.96     10804\n",
      "           1       0.17      0.99      0.30       157\n",
      "\n",
      "    accuracy                           0.93     10961\n",
      "   macro avg       0.59      0.96      0.63     10961\n",
      "weighted avg       0.99      0.93      0.96     10961\n",
      "\n"
     ]
    }
   ],
   "source": [
    "print(f1_score(pred,y_cv))\n",
    "print()\n",
    "print(accuracy_score(pred,y_cv))\n",
    "print()\n",
    "print(confusion_matrix(pred,y_cv))\n",
    "print()\n",
    "print(classification_report(pred,y_cv))"
   ]
  },
  {
   "cell_type": "code",
   "execution_count": null,
   "metadata": {
    "id": "0elLU-E7SRp0"
   },
   "outputs": [],
   "source": [
    "pred = (model.predict(X_test) > 0.5).astype(\"int32\")\n",
    "pred_test = []\n",
    "for i in range(len(pred)):\n",
    "  pred_test.append(pred[i][0])\n",
    "pred_test = pd.DataFrame(pred_test)\n",
    "pred = pd.concat([df_test['employee_id'],pred_test],axis=1)\n",
    "pred.columns = ['employee_id','is_promoted']\n",
    "pred.to_csv('pred_neural3.csv',index=False)"
   ]
  },
  {
   "cell_type": "code",
   "execution_count": null,
   "metadata": {
    "id": "zCyh2dLrwfVm"
   },
   "outputs": [],
   "source": [
    "import tensorflow as tf\n",
    "from tensorflow.keras.models import Sequential\n",
    "from tensorflow.keras.layers import Dense,Dropout"
   ]
  },
  {
   "cell_type": "code",
   "execution_count": null,
   "metadata": {
    "id": "1uwiD8fewfX4"
   },
   "outputs": [],
   "source": [
    "# CODE HERE\n",
    "model = Sequential()\n",
    "\n",
    "model.add(Dense(145,activation='relu'))\n",
    "model.add(Dropout(0.2))\n",
    "model.add(Dense(72,activation='relu'))\n",
    "model.add(Dropout(0.2))\n",
    "#model.add(Dense(36,activation='relu'))\n",
    "#model.add(Dropout(0.2))\n",
    "#model.add(Dense(18,activation='relu'))\n",
    "#model.add(Dropout(0.2))\n",
    "#model.add(Dense(9,activation='relu'))\n",
    "#model.add(Dropout(0.2))\n",
    "#model.add(Dense(4,activation='relu'))\n",
    "#model.add(Dropout(0.2))\n",
    "#model.add(Dense(2,activation='relu'))\n",
    "#model.add(Dropout(0.2))\n",
    "\n",
    "model.add(Dense(1,activation='sigmoid'))\n",
    "model.compile(optimizer='rmsprop',loss='binary_crossentropy',metrics=['accuracy'])"
   ]
  },
  {
   "cell_type": "code",
   "execution_count": null,
   "metadata": {
    "colab": {
     "base_uri": "https://localhost:8080/"
    },
    "id": "rr2dGElMwfaY",
    "outputId": "61c47cda-7f09-4f70-b38c-150b49cbdf59"
   },
   "outputs": [
    {
     "name": "stdout",
     "output_type": "stream",
     "text": [
      "Epoch 1/90\n",
      "215/215 [==============================] - 3s 7ms/step - loss: 0.3613 - accuracy: 0.9038\n",
      "Epoch 2/90\n",
      "215/215 [==============================] - 2s 7ms/step - loss: 0.2684 - accuracy: 0.9147\n",
      "Epoch 3/90\n",
      "215/215 [==============================] - 1s 6ms/step - loss: 0.2464 - accuracy: 0.9153\n",
      "Epoch 4/90\n",
      "215/215 [==============================] - 1s 6ms/step - loss: 0.2339 - accuracy: 0.9174\n",
      "Epoch 5/90\n",
      "215/215 [==============================] - 1s 6ms/step - loss: 0.2176 - accuracy: 0.9219\n",
      "Epoch 6/90\n",
      "215/215 [==============================] - 1s 4ms/step - loss: 0.2045 - accuracy: 0.9273\n",
      "Epoch 7/90\n",
      "215/215 [==============================] - 1s 4ms/step - loss: 0.1942 - accuracy: 0.9317\n",
      "Epoch 8/90\n",
      "215/215 [==============================] - 1s 5ms/step - loss: 0.1876 - accuracy: 0.9344\n",
      "Epoch 9/90\n",
      "215/215 [==============================] - 1s 5ms/step - loss: 0.1804 - accuracy: 0.9361\n",
      "Epoch 10/90\n",
      "215/215 [==============================] - 1s 5ms/step - loss: 0.1780 - accuracy: 0.9374\n",
      "Epoch 11/90\n",
      "215/215 [==============================] - 1s 5ms/step - loss: 0.1746 - accuracy: 0.9385\n",
      "Epoch 12/90\n",
      "215/215 [==============================] - 1s 5ms/step - loss: 0.1715 - accuracy: 0.9393\n",
      "Epoch 13/90\n",
      "215/215 [==============================] - 1s 5ms/step - loss: 0.1707 - accuracy: 0.9399\n",
      "Epoch 14/90\n",
      "215/215 [==============================] - 1s 5ms/step - loss: 0.1697 - accuracy: 0.9395\n",
      "Epoch 15/90\n",
      "215/215 [==============================] - 1s 5ms/step - loss: 0.1682 - accuracy: 0.9401\n",
      "Epoch 16/90\n",
      "215/215 [==============================] - 1s 4ms/step - loss: 0.1668 - accuracy: 0.9406\n",
      "Epoch 17/90\n",
      "215/215 [==============================] - 1s 5ms/step - loss: 0.1667 - accuracy: 0.9406\n",
      "Epoch 18/90\n",
      "215/215 [==============================] - 1s 5ms/step - loss: 0.1673 - accuracy: 0.9404\n",
      "Epoch 19/90\n",
      "215/215 [==============================] - 1s 5ms/step - loss: 0.1656 - accuracy: 0.9410\n",
      "Epoch 20/90\n",
      "215/215 [==============================] - 1s 5ms/step - loss: 0.1649 - accuracy: 0.9409\n",
      "Epoch 21/90\n",
      "215/215 [==============================] - 1s 5ms/step - loss: 0.1649 - accuracy: 0.9407\n",
      "Epoch 22/90\n",
      "215/215 [==============================] - 1s 5ms/step - loss: 0.1639 - accuracy: 0.9411\n",
      "Epoch 23/90\n",
      "215/215 [==============================] - 1s 4ms/step - loss: 0.1632 - accuracy: 0.9415\n",
      "Epoch 24/90\n",
      "215/215 [==============================] - 1s 5ms/step - loss: 0.1621 - accuracy: 0.9419\n",
      "Epoch 25/90\n",
      "215/215 [==============================] - 1s 5ms/step - loss: 0.1622 - accuracy: 0.9420\n",
      "Epoch 26/90\n",
      "215/215 [==============================] - 1s 5ms/step - loss: 0.1618 - accuracy: 0.9416\n",
      "Epoch 27/90\n",
      "215/215 [==============================] - 1s 5ms/step - loss: 0.1606 - accuracy: 0.9418\n",
      "Epoch 28/90\n",
      "215/215 [==============================] - 1s 5ms/step - loss: 0.1616 - accuracy: 0.9417\n",
      "Epoch 29/90\n",
      "215/215 [==============================] - 1s 4ms/step - loss: 0.1610 - accuracy: 0.9419\n",
      "Epoch 30/90\n",
      "215/215 [==============================] - 1s 4ms/step - loss: 0.1613 - accuracy: 0.9420\n",
      "Epoch 31/90\n",
      "215/215 [==============================] - 1s 4ms/step - loss: 0.1615 - accuracy: 0.9419\n",
      "Epoch 32/90\n",
      "215/215 [==============================] - 1s 5ms/step - loss: 0.1600 - accuracy: 0.9416\n",
      "Epoch 33/90\n",
      "215/215 [==============================] - 1s 5ms/step - loss: 0.1596 - accuracy: 0.9423\n",
      "Epoch 34/90\n",
      "215/215 [==============================] - 1s 5ms/step - loss: 0.1600 - accuracy: 0.9424\n",
      "Epoch 35/90\n",
      "215/215 [==============================] - 1s 5ms/step - loss: 0.1602 - accuracy: 0.9422\n",
      "Epoch 36/90\n",
      "215/215 [==============================] - 1s 4ms/step - loss: 0.1590 - accuracy: 0.9426\n",
      "Epoch 37/90\n",
      "215/215 [==============================] - 1s 5ms/step - loss: 0.1579 - accuracy: 0.9428\n",
      "Epoch 38/90\n",
      "215/215 [==============================] - 1s 4ms/step - loss: 0.1593 - accuracy: 0.9422\n",
      "Epoch 39/90\n",
      "215/215 [==============================] - 1s 4ms/step - loss: 0.1576 - accuracy: 0.9428\n",
      "Epoch 40/90\n",
      "215/215 [==============================] - 1s 4ms/step - loss: 0.1581 - accuracy: 0.9430\n",
      "Epoch 41/90\n",
      "215/215 [==============================] - 1s 5ms/step - loss: 0.1577 - accuracy: 0.9429\n",
      "Epoch 42/90\n",
      "215/215 [==============================] - 1s 5ms/step - loss: 0.1574 - accuracy: 0.9430\n",
      "Epoch 43/90\n",
      "215/215 [==============================] - 1s 5ms/step - loss: 0.1570 - accuracy: 0.9428\n",
      "Epoch 44/90\n",
      "215/215 [==============================] - 1s 4ms/step - loss: 0.1568 - accuracy: 0.9432\n",
      "Epoch 45/90\n",
      "215/215 [==============================] - 1s 5ms/step - loss: 0.1568 - accuracy: 0.9431\n",
      "Epoch 46/90\n",
      "215/215 [==============================] - 1s 4ms/step - loss: 0.1564 - accuracy: 0.9430\n",
      "Epoch 47/90\n",
      "215/215 [==============================] - 1s 4ms/step - loss: 0.1563 - accuracy: 0.9435\n",
      "Epoch 48/90\n",
      "215/215 [==============================] - 1s 5ms/step - loss: 0.1557 - accuracy: 0.9435\n",
      "Epoch 49/90\n",
      "215/215 [==============================] - 1s 5ms/step - loss: 0.1553 - accuracy: 0.9435\n",
      "Epoch 50/90\n",
      "215/215 [==============================] - 1s 4ms/step - loss: 0.1552 - accuracy: 0.9434\n",
      "Epoch 51/90\n",
      "215/215 [==============================] - 1s 4ms/step - loss: 0.1545 - accuracy: 0.9436\n",
      "Epoch 52/90\n",
      "215/215 [==============================] - 1s 5ms/step - loss: 0.1553 - accuracy: 0.9434\n",
      "Epoch 53/90\n",
      "215/215 [==============================] - 1s 5ms/step - loss: 0.1543 - accuracy: 0.9435\n",
      "Epoch 54/90\n",
      "215/215 [==============================] - 1s 5ms/step - loss: 0.1545 - accuracy: 0.9436\n",
      "Epoch 55/90\n",
      "215/215 [==============================] - 1s 5ms/step - loss: 0.1539 - accuracy: 0.9441\n",
      "Epoch 56/90\n",
      "215/215 [==============================] - 1s 4ms/step - loss: 0.1536 - accuracy: 0.9441\n",
      "Epoch 57/90\n",
      "215/215 [==============================] - 1s 4ms/step - loss: 0.1537 - accuracy: 0.9440\n",
      "Epoch 58/90\n",
      "215/215 [==============================] - 1s 5ms/step - loss: 0.1535 - accuracy: 0.9443\n",
      "Epoch 59/90\n",
      "215/215 [==============================] - 1s 5ms/step - loss: 0.1538 - accuracy: 0.9433\n",
      "Epoch 60/90\n",
      "215/215 [==============================] - 1s 5ms/step - loss: 0.1529 - accuracy: 0.9442\n",
      "Epoch 61/90\n",
      "215/215 [==============================] - 1s 4ms/step - loss: 0.1517 - accuracy: 0.9439\n",
      "Epoch 62/90\n",
      "215/215 [==============================] - 1s 4ms/step - loss: 0.1517 - accuracy: 0.9446\n",
      "Epoch 63/90\n",
      "215/215 [==============================] - 1s 4ms/step - loss: 0.1520 - accuracy: 0.9441\n",
      "Epoch 64/90\n",
      "215/215 [==============================] - 1s 5ms/step - loss: 0.1523 - accuracy: 0.9439\n",
      "Epoch 65/90\n",
      "215/215 [==============================] - 1s 5ms/step - loss: 0.1518 - accuracy: 0.9441\n",
      "Epoch 66/90\n",
      "215/215 [==============================] - 1s 5ms/step - loss: 0.1513 - accuracy: 0.9440\n",
      "Epoch 67/90\n",
      "215/215 [==============================] - 1s 4ms/step - loss: 0.1523 - accuracy: 0.9441\n",
      "Epoch 68/90\n",
      "215/215 [==============================] - 1s 5ms/step - loss: 0.1507 - accuracy: 0.9445\n",
      "Epoch 69/90\n",
      "215/215 [==============================] - 1s 5ms/step - loss: 0.1514 - accuracy: 0.9445\n",
      "Epoch 70/90\n",
      "215/215 [==============================] - 1s 5ms/step - loss: 0.1510 - accuracy: 0.9442\n",
      "Epoch 71/90\n",
      "215/215 [==============================] - 1s 5ms/step - loss: 0.1504 - accuracy: 0.9444\n",
      "Epoch 72/90\n",
      "215/215 [==============================] - 1s 4ms/step - loss: 0.1503 - accuracy: 0.9444\n",
      "Epoch 73/90\n",
      "215/215 [==============================] - 1s 5ms/step - loss: 0.1507 - accuracy: 0.9442\n",
      "Epoch 74/90\n",
      "215/215 [==============================] - 1s 4ms/step - loss: 0.1509 - accuracy: 0.9442\n",
      "Epoch 75/90\n",
      "215/215 [==============================] - 1s 5ms/step - loss: 0.1497 - accuracy: 0.9445\n",
      "Epoch 76/90\n",
      "215/215 [==============================] - 1s 5ms/step - loss: 0.1507 - accuracy: 0.9443\n",
      "Epoch 77/90\n",
      "215/215 [==============================] - 1s 4ms/step - loss: 0.1485 - accuracy: 0.9454\n",
      "Epoch 78/90\n",
      "215/215 [==============================] - 1s 5ms/step - loss: 0.1500 - accuracy: 0.9443\n",
      "Epoch 79/90\n",
      "215/215 [==============================] - 1s 4ms/step - loss: 0.1497 - accuracy: 0.9445\n",
      "Epoch 80/90\n",
      "215/215 [==============================] - 1s 4ms/step - loss: 0.1496 - accuracy: 0.9449\n",
      "Epoch 81/90\n",
      "215/215 [==============================] - 1s 5ms/step - loss: 0.1494 - accuracy: 0.9444\n",
      "Epoch 82/90\n",
      "215/215 [==============================] - 2s 8ms/step - loss: 0.1481 - accuracy: 0.9450\n",
      "Epoch 83/90\n",
      "215/215 [==============================] - 1s 6ms/step - loss: 0.1482 - accuracy: 0.9446\n",
      "Epoch 84/90\n",
      "215/215 [==============================] - 1s 4ms/step - loss: 0.1487 - accuracy: 0.9450\n",
      "Epoch 85/90\n",
      "215/215 [==============================] - 1s 5ms/step - loss: 0.1476 - accuracy: 0.9449\n",
      "Epoch 86/90\n",
      "215/215 [==============================] - 1s 5ms/step - loss: 0.1475 - accuracy: 0.9449\n",
      "Epoch 87/90\n",
      "215/215 [==============================] - 1s 5ms/step - loss: 0.1482 - accuracy: 0.9446\n",
      "Epoch 88/90\n",
      "215/215 [==============================] - 1s 5ms/step - loss: 0.1483 - accuracy: 0.9454\n",
      "Epoch 89/90\n",
      "215/215 [==============================] - 1s 5ms/step - loss: 0.1479 - accuracy: 0.9456\n",
      "Epoch 90/90\n",
      "215/215 [==============================] - 1s 4ms/step - loss: 0.1474 - accuracy: 0.9452\n"
     ]
    },
    {
     "data": {
      "text/plain": [
       "<keras.callbacks.History at 0x7f2f35407c50>"
      ]
     },
     "execution_count": 57,
     "metadata": {},
     "output_type": "execute_result"
    }
   ],
   "source": [
    "model.fit(X,y,epochs=90,batch_size=256)"
   ]
  },
  {
   "cell_type": "code",
   "execution_count": null,
   "metadata": {
    "colab": {
     "base_uri": "https://localhost:8080/",
     "height": 282
    },
    "id": "RdsRQcjAwfc-",
    "outputId": "39847a31-19ba-4257-bc5f-3bf7208a778f"
   },
   "outputs": [
    {
     "data": {
      "text/plain": [
       "<matplotlib.axes._subplots.AxesSubplot at 0x7f2f352a95d0>"
      ]
     },
     "execution_count": 59,
     "metadata": {},
     "output_type": "execute_result"
    },
    {
     "data": {
      "image/png": "[encoded data removed]",
      "text/plain": [
       "<Figure size 432x288 with 1 Axes>"
      ]
     },
     "metadata": {
      "needs_background": "light"
     },
     "output_type": "display_data"
    }
   ],
   "source": [
    "# CODE HERE\n",
    "losses = pd.DataFrame(model.history.history)\n",
    "losses[['loss']].plot()"
   ]
  },
  {
   "cell_type": "code",
   "execution_count": null,
   "metadata": {
    "id": "mGwtBBFowffs"
   },
   "outputs": [],
   "source": [
    "pred = (model.predict(X_cv) > 0.5).astype(\"int32\")"
   ]
  },
  {
   "cell_type": "code",
   "execution_count": null,
   "metadata": {
    "colab": {
     "base_uri": "https://localhost:8080/"
    },
    "id": "rr4Mi6QDwfiT",
    "outputId": "76755ff5-4017-4978-9358-c8cd3dfdf9bd"
   },
   "outputs": [
    {
     "name": "stdout",
     "output_type": "stream",
     "text": [
      "0.5592705167173253\n",
      "\n",
      "0.9470851199708056\n",
      "\n",
      "[[10013   525]\n",
      " [   55   368]]\n",
      "\n",
      "              precision    recall  f1-score   support\n",
      "\n",
      "           0       0.99      0.95      0.97     10538\n",
      "           1       0.41      0.87      0.56       423\n",
      "\n",
      "    accuracy                           0.95     10961\n",
      "   macro avg       0.70      0.91      0.77     10961\n",
      "weighted avg       0.97      0.95      0.96     10961\n",
      "\n"
     ]
    }
   ],
   "source": [
    "print(f1_score(pred,y_cv))\n",
    "print()\n",
    "print(accuracy_score(pred,y_cv))\n",
    "print()\n",
    "print(confusion_matrix(pred,y_cv))\n",
    "print()\n",
    "print(classification_report(pred,y_cv))"
   ]
  },
  {
   "cell_type": "code",
   "execution_count": null,
   "metadata": {
    "id": "4rCwtVP5wfk2"
   },
   "outputs": [],
   "source": [
    "pred = (model.predict(X_test) > 0.5).astype(\"int32\")\n",
    "pred_test = []\n",
    "for i in range(len(pred)):\n",
    "  pred_test.append(pred[i][0])\n",
    "pred_test = pd.DataFrame(pred_test)\n",
    "pred = pd.concat([df_test['employee_id'],pred_test],axis=1)\n",
    "pred.columns = ['employee_id','is_promoted']\n",
    "pred.to_csv('pred_neural5.csv',index=False)"
   ]
  }
 ],
 "metadata": {
  "colab": {
   "collapsed_sections": [],
   "name": "Model_Training_HR.ipynb",
   "provenance": []
  },
  "kernelspec": {
   "display_name": "Python 3 (ipykernel)",
   "language": "python",
   "name": "python3"
  },
  "language_info": {
   "codemirror_mode": {
    "name": "ipython",
    "version": 3
   },
   "file_extension": ".py",
   "mimetype": "text/x-python",
   "name": "python",
   "nbconvert_exporter": "python",
   "pygments_lexer": "ipython3",
   "version": "3.9.7"
  }
 },
 "nbformat": 4,
 "nbformat_minor": 1
}
